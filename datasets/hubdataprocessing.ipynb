{
 "cells": [
  {
   "cell_type": "code",
   "execution_count": null,
   "metadata": {},
   "outputs": [],
   "source": [
    "from sklearn.model_selection import KFold\n",
    "# coding:utf-8\n",
    "import os\n",
    "import shutil\n",
    "import json\n",
    "import numpy as np\n",
    "import pandas as pd\n",
    "from collections import OrderedDict\n",
    "import natsort #listdir 순서정렬\n",
    "\n",
    "def make_meta(label_path,wav_path, num):\n",
    "    \n",
    "    meta = {'filename':[],\n",
    "        'target':[],\n",
    "        'length':[] }\n",
    "    label_list = os.listdir(label_path)\n",
    "    wav_list = os.listdir(wav_path)\n",
    "    label_list = natsort.natsorted(label_list)\n",
    "    if num > 0:\n",
    "        label_list = label_list[:num]\n",
    "\n",
    "    for idx in range(len(label_list)):\n",
    "        with open(label_path+'/'+label_list[idx],'r') as file:\n",
    "            data = json.load(file)\n",
    "        wav = data['annotations'][0]['audio_id']\n",
    "        filename = wav + '.wav'\n",
    "        target = wav.split('.')[0]\n",
    "        area = data['annotations'][0]['area']\n",
    "        length = area['end'] - area['start']\n",
    "        if filename in wav_list:\n",
    "            meta['filename'].append(filename)\n",
    "            meta['target'].append(target)\n",
    "            meta['length'].append(length)\n",
    "    \n",
    "    df = pd.DataFrame(meta)\n",
    "\n",
    "    return df\n",
    "\n",
    "def hubdataprocess(train_path,label_num,kfold=5,save=False):\n",
    "    \n",
    "    folder_list = os.listdir(train_path)\n",
    "    wav_list = [s for s in folder_list if '원천' in s]\n",
    "    label_list = [s for s in folder_list if '라벨' in s]\n",
    "    wav_list = natsort.natsorted(wav_list)\n",
    "    label_list = natsort.natsorted(label_list)\n",
    "\n",
    "    df = 0\n",
    "    for idx2 in range(len(wav_list)):\n",
    "        label_path = train_path+'/'+label_list[idx2]\n",
    "        wav_path = train_path+'/'+wav_list[idx2]\n",
    "\n",
    "        meta = make_meta(label_path,wav_path,label_num)\n",
    "        \n",
    "        if idx2 == 0:\n",
    "            df = meta.copy()\n",
    "        else:\n",
    "            df = pd.concat([df,meta],ignore_index=True)\n",
    "\n",
    "    numbers = df.index\n",
    "    kf = KFold(n_splits=kfold,shuffle=True)\n",
    "\n",
    "    fold_number = [0] * len(numbers)  # 초기화\n",
    "    for fold, (train_index, test_index) in enumerate(kf.split(numbers)):\n",
    "        for index in test_index:\n",
    "            fold_number[index] = fold + 1  # 폴드 번호 할당 (1부터 시작)\n",
    "\n",
    "    fold_list = list(zip(numbers, fold_number))\n",
    "\n",
    "    df['fold'] = 0\n",
    "    for i in range(len(fold_list)):\n",
    "        idx3 = fold_list[i][0]\n",
    "        df.iloc[idx3,3] = fold_list[i][1]\n",
    "\n",
    "    classes = df['target'].unique()\n",
    "    \n",
    "    if len(classes) != 16:\n",
    "        for idx in range(len(classes)):\n",
    "            df.loc[df['target']==classes[idx],'target'] = idx\n",
    "    \n",
    "    df['target'] = df['target'].astype(int)\n",
    "    if save==True:\n",
    "        df.to_csv('custom_meta.csv',index=False)\n",
    "        \n",
    "    \n",
    "    return df\n"
   ]
  },
  {
   "cell_type": "code",
   "execution_count": null,
   "metadata": {},
   "outputs": [],
   "source": [
    "train_path = r'C:\\DataScience\\deepdaiv_emergencyclf\\위급상황 음성_음향\\Training'\n",
    "df = hubdataprocess(train_path,label_num=10000,kfold=5)"
   ]
  },
  {
   "cell_type": "code",
   "execution_count": null,
   "metadata": {},
   "outputs": [],
   "source": [
    "test_path = r'C:\\DataScience\\deepdaiv_emergencyclf\\위급상황 음성_음향\\Validation'\n",
    "test = hubdataprocess(test_path,label_num=1000,kfold=5)"
   ]
  },
  {
   "cell_type": "code",
   "execution_count": null,
   "metadata": {},
   "outputs": [],
   "source": [
    "df.to_csv('custom_meta.csv',index=False) #저장후 train wav가 있는 폴더로 이동\n",
    "test.to_csv('custom_meta_test.csv',index=False)#저장후 test wave가 있는 폴더로 이동"
   ]
  }
 ],
 "metadata": {
  "kernelspec": {
   "display_name": "base",
   "language": "python",
   "name": "python3"
  },
  "language_info": {
   "codemirror_mode": {
    "name": "ipython",
    "version": 3
   },
   "file_extension": ".py",
   "mimetype": "text/x-python",
   "name": "python",
   "nbconvert_exporter": "python",
   "pygments_lexer": "ipython3",
   "version": "3.10.13"
  }
 },
 "nbformat": 4,
 "nbformat_minor": 2
}
